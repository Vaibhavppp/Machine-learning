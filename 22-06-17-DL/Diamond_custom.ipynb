{
  "nbformat": 4,
  "nbformat_minor": 0,
  "metadata": {
    "colab": {
      "name": "Keras.ipynb",
      "provenance": [],
      "toc_visible": true,
      "include_colab_link": true
    },
    "kernelspec": {
      "name": "python3",
      "display_name": "Python 3"
    },
    "language_info": {
      "name": "python"
    }
  },
  "cells": [
    {
      "cell_type": "markdown",
      "metadata": {
        "id": "view-in-github",
        "colab_type": "text"
      },
      "source": [
        "<a href=\"https://colab.research.google.com/github/Vaibhavppp/Machine-learning-and-DL-projects-/blob/main/22-06-17-DL/Diamond_custom.ipynb\" target=\"_parent\"><img src=\"https://colab.research.google.com/assets/colab-badge.svg\" alt=\"Open In Colab\"/></a>"
      ]
    },
    {
      "cell_type": "markdown",
      "source": [
        "DataSet: https://www.kaggle.com/datasets/shivam2503/diamonds"
      ],
      "metadata": {
        "id": "6e_s7G9AmmF4"
      }
    },
    {
      "cell_type": "code",
      "execution_count": null,
      "metadata": {
        "colab": {
          "base_uri": "https://localhost:8080/"
        },
        "id": "2_wrKy6tmWDP",
        "outputId": "79d314a2-77be-426b-db75-c0cc73cc8cdd"
      },
      "outputs": [
        {
          "output_type": "stream",
          "name": "stdout",
          "text": [
            "Archive:  /content/archive.zip\n",
            "  inflating: diamonds.csv            \n"
          ]
        }
      ],
      "source": [
        "! unzip /content/archive.zip"
      ]
    },
    {
      "cell_type": "code",
      "source": [
        "SEED = 40"
      ],
      "metadata": {
        "id": "bfzq2tmZkLNe"
      },
      "execution_count": null,
      "outputs": []
    },
    {
      "cell_type": "code",
      "source": [
        "import numpy as np\n",
        "import pandas as pd"
      ],
      "metadata": {
        "id": "l_YDxihVmtKc"
      },
      "execution_count": null,
      "outputs": []
    },
    {
      "cell_type": "code",
      "source": [
        "df = pd.read_csv('diamonds.csv')\n",
        "df.head()"
      ],
      "metadata": {
        "colab": {
          "base_uri": "https://localhost:8080/",
          "height": 206
        },
        "id": "ZGlvfpy_mybm",
        "outputId": "5cf885cc-5f38-4698-c8d1-c152b91f8595"
      },
      "execution_count": null,
      "outputs": [
        {
          "output_type": "execute_result",
          "data": {
            "text/plain": [
              "   Unnamed: 0  carat      cut color clarity  depth  table  price     x     y  \\\n",
              "0           1   0.23    Ideal     E     SI2   61.5   55.0    326  3.95  3.98   \n",
              "1           2   0.21  Premium     E     SI1   59.8   61.0    326  3.89  3.84   \n",
              "2           3   0.23     Good     E     VS1   56.9   65.0    327  4.05  4.07   \n",
              "3           4   0.29  Premium     I     VS2   62.4   58.0    334  4.20  4.23   \n",
              "4           5   0.31     Good     J     SI2   63.3   58.0    335  4.34  4.35   \n",
              "\n",
              "      z  \n",
              "0  2.43  \n",
              "1  2.31  \n",
              "2  2.31  \n",
              "3  2.63  \n",
              "4  2.75  "
            ],
            "text/html": [
              "\n",
              "  <div id=\"df-2617e282-d721-462e-9543-7a0e3493a88c\">\n",
              "    <div class=\"colab-df-container\">\n",
              "      <div>\n",
              "<style scoped>\n",
              "    .dataframe tbody tr th:only-of-type {\n",
              "        vertical-align: middle;\n",
              "    }\n",
              "\n",
              "    .dataframe tbody tr th {\n",
              "        vertical-align: top;\n",
              "    }\n",
              "\n",
              "    .dataframe thead th {\n",
              "        text-align: right;\n",
              "    }\n",
              "</style>\n",
              "<table border=\"1\" class=\"dataframe\">\n",
              "  <thead>\n",
              "    <tr style=\"text-align: right;\">\n",
              "      <th></th>\n",
              "      <th>Unnamed: 0</th>\n",
              "      <th>carat</th>\n",
              "      <th>cut</th>\n",
              "      <th>color</th>\n",
              "      <th>clarity</th>\n",
              "      <th>depth</th>\n",
              "      <th>table</th>\n",
              "      <th>price</th>\n",
              "      <th>x</th>\n",
              "      <th>y</th>\n",
              "      <th>z</th>\n",
              "    </tr>\n",
              "  </thead>\n",
              "  <tbody>\n",
              "    <tr>\n",
              "      <th>0</th>\n",
              "      <td>1</td>\n",
              "      <td>0.23</td>\n",
              "      <td>Ideal</td>\n",
              "      <td>E</td>\n",
              "      <td>SI2</td>\n",
              "      <td>61.5</td>\n",
              "      <td>55.0</td>\n",
              "      <td>326</td>\n",
              "      <td>3.95</td>\n",
              "      <td>3.98</td>\n",
              "      <td>2.43</td>\n",
              "    </tr>\n",
              "    <tr>\n",
              "      <th>1</th>\n",
              "      <td>2</td>\n",
              "      <td>0.21</td>\n",
              "      <td>Premium</td>\n",
              "      <td>E</td>\n",
              "      <td>SI1</td>\n",
              "      <td>59.8</td>\n",
              "      <td>61.0</td>\n",
              "      <td>326</td>\n",
              "      <td>3.89</td>\n",
              "      <td>3.84</td>\n",
              "      <td>2.31</td>\n",
              "    </tr>\n",
              "    <tr>\n",
              "      <th>2</th>\n",
              "      <td>3</td>\n",
              "      <td>0.23</td>\n",
              "      <td>Good</td>\n",
              "      <td>E</td>\n",
              "      <td>VS1</td>\n",
              "      <td>56.9</td>\n",
              "      <td>65.0</td>\n",
              "      <td>327</td>\n",
              "      <td>4.05</td>\n",
              "      <td>4.07</td>\n",
              "      <td>2.31</td>\n",
              "    </tr>\n",
              "    <tr>\n",
              "      <th>3</th>\n",
              "      <td>4</td>\n",
              "      <td>0.29</td>\n",
              "      <td>Premium</td>\n",
              "      <td>I</td>\n",
              "      <td>VS2</td>\n",
              "      <td>62.4</td>\n",
              "      <td>58.0</td>\n",
              "      <td>334</td>\n",
              "      <td>4.20</td>\n",
              "      <td>4.23</td>\n",
              "      <td>2.63</td>\n",
              "    </tr>\n",
              "    <tr>\n",
              "      <th>4</th>\n",
              "      <td>5</td>\n",
              "      <td>0.31</td>\n",
              "      <td>Good</td>\n",
              "      <td>J</td>\n",
              "      <td>SI2</td>\n",
              "      <td>63.3</td>\n",
              "      <td>58.0</td>\n",
              "      <td>335</td>\n",
              "      <td>4.34</td>\n",
              "      <td>4.35</td>\n",
              "      <td>2.75</td>\n",
              "    </tr>\n",
              "  </tbody>\n",
              "</table>\n",
              "</div>\n",
              "      <button class=\"colab-df-convert\" onclick=\"convertToInteractive('df-2617e282-d721-462e-9543-7a0e3493a88c')\"\n",
              "              title=\"Convert this dataframe to an interactive table.\"\n",
              "              style=\"display:none;\">\n",
              "        \n",
              "  <svg xmlns=\"http://www.w3.org/2000/svg\" height=\"24px\"viewBox=\"0 0 24 24\"\n",
              "       width=\"24px\">\n",
              "    <path d=\"M0 0h24v24H0V0z\" fill=\"none\"/>\n",
              "    <path d=\"M18.56 5.44l.94 2.06.94-2.06 2.06-.94-2.06-.94-.94-2.06-.94 2.06-2.06.94zm-11 1L8.5 8.5l.94-2.06 2.06-.94-2.06-.94L8.5 2.5l-.94 2.06-2.06.94zm10 10l.94 2.06.94-2.06 2.06-.94-2.06-.94-.94-2.06-.94 2.06-2.06.94z\"/><path d=\"M17.41 7.96l-1.37-1.37c-.4-.4-.92-.59-1.43-.59-.52 0-1.04.2-1.43.59L10.3 9.45l-7.72 7.72c-.78.78-.78 2.05 0 2.83L4 21.41c.39.39.9.59 1.41.59.51 0 1.02-.2 1.41-.59l7.78-7.78 2.81-2.81c.8-.78.8-2.07 0-2.86zM5.41 20L4 18.59l7.72-7.72 1.47 1.35L5.41 20z\"/>\n",
              "  </svg>\n",
              "      </button>\n",
              "      \n",
              "  <style>\n",
              "    .colab-df-container {\n",
              "      display:flex;\n",
              "      flex-wrap:wrap;\n",
              "      gap: 12px;\n",
              "    }\n",
              "\n",
              "    .colab-df-convert {\n",
              "      background-color: #E8F0FE;\n",
              "      border: none;\n",
              "      border-radius: 50%;\n",
              "      cursor: pointer;\n",
              "      display: none;\n",
              "      fill: #1967D2;\n",
              "      height: 32px;\n",
              "      padding: 0 0 0 0;\n",
              "      width: 32px;\n",
              "    }\n",
              "\n",
              "    .colab-df-convert:hover {\n",
              "      background-color: #E2EBFA;\n",
              "      box-shadow: 0px 1px 2px rgba(60, 64, 67, 0.3), 0px 1px 3px 1px rgba(60, 64, 67, 0.15);\n",
              "      fill: #174EA6;\n",
              "    }\n",
              "\n",
              "    [theme=dark] .colab-df-convert {\n",
              "      background-color: #3B4455;\n",
              "      fill: #D2E3FC;\n",
              "    }\n",
              "\n",
              "    [theme=dark] .colab-df-convert:hover {\n",
              "      background-color: #434B5C;\n",
              "      box-shadow: 0px 1px 3px 1px rgba(0, 0, 0, 0.15);\n",
              "      filter: drop-shadow(0px 1px 2px rgba(0, 0, 0, 0.3));\n",
              "      fill: #FFFFFF;\n",
              "    }\n",
              "  </style>\n",
              "\n",
              "      <script>\n",
              "        const buttonEl =\n",
              "          document.querySelector('#df-2617e282-d721-462e-9543-7a0e3493a88c button.colab-df-convert');\n",
              "        buttonEl.style.display =\n",
              "          google.colab.kernel.accessAllowed ? 'block' : 'none';\n",
              "\n",
              "        async function convertToInteractive(key) {\n",
              "          const element = document.querySelector('#df-2617e282-d721-462e-9543-7a0e3493a88c');\n",
              "          const dataTable =\n",
              "            await google.colab.kernel.invokeFunction('convertToInteractive',\n",
              "                                                     [key], {});\n",
              "          if (!dataTable) return;\n",
              "\n",
              "          const docLinkHtml = 'Like what you see? Visit the ' +\n",
              "            '<a target=\"_blank\" href=https://colab.research.google.com/notebooks/data_table.ipynb>data table notebook</a>'\n",
              "            + ' to learn more about interactive tables.';\n",
              "          element.innerHTML = '';\n",
              "          dataTable['output_type'] = 'display_data';\n",
              "          await google.colab.output.renderOutput(dataTable, element);\n",
              "          const docLink = document.createElement('div');\n",
              "          docLink.innerHTML = docLinkHtml;\n",
              "          element.appendChild(docLink);\n",
              "        }\n",
              "      </script>\n",
              "    </div>\n",
              "  </div>\n",
              "  "
            ]
          },
          "metadata": {},
          "execution_count": 5
        }
      ]
    },
    {
      "cell_type": "code",
      "source": [
        "df.drop('Unnamed: 0', axis=1, inplace = True)"
      ],
      "metadata": {
        "id": "ggmAfo5qp4Ss"
      },
      "execution_count": null,
      "outputs": []
    },
    {
      "cell_type": "code",
      "source": [
        "df.isna().sum()"
      ],
      "metadata": {
        "colab": {
          "base_uri": "https://localhost:8080/"
        },
        "id": "3-4KdSBOm3xG",
        "outputId": "0f6a0062-e0f8-4eed-9c65-fe4fce55b17b"
      },
      "execution_count": null,
      "outputs": [
        {
          "output_type": "execute_result",
          "data": {
            "text/plain": [
              "carat      0\n",
              "cut        0\n",
              "color      0\n",
              "clarity    0\n",
              "depth      0\n",
              "table      0\n",
              "price      0\n",
              "x          0\n",
              "y          0\n",
              "z          0\n",
              "dtype: int64"
            ]
          },
          "metadata": {},
          "execution_count": 7
        }
      ]
    },
    {
      "cell_type": "code",
      "source": [
        "df.info()"
      ],
      "metadata": {
        "colab": {
          "base_uri": "https://localhost:8080/"
        },
        "id": "GVJ1LszMnLsX",
        "outputId": "ddb8256d-9fc3-4f18-9c29-c83dd12961e1"
      },
      "execution_count": null,
      "outputs": [
        {
          "output_type": "stream",
          "name": "stdout",
          "text": [
            "<class 'pandas.core.frame.DataFrame'>\n",
            "RangeIndex: 53940 entries, 0 to 53939\n",
            "Data columns (total 10 columns):\n",
            " #   Column   Non-Null Count  Dtype  \n",
            "---  ------   --------------  -----  \n",
            " 0   carat    53940 non-null  float64\n",
            " 1   cut      53940 non-null  object \n",
            " 2   color    53940 non-null  object \n",
            " 3   clarity  53940 non-null  object \n",
            " 4   depth    53940 non-null  float64\n",
            " 5   table    53940 non-null  float64\n",
            " 6   price    53940 non-null  int64  \n",
            " 7   x        53940 non-null  float64\n",
            " 8   y        53940 non-null  float64\n",
            " 9   z        53940 non-null  float64\n",
            "dtypes: float64(6), int64(1), object(3)\n",
            "memory usage: 4.1+ MB\n"
          ]
        }
      ]
    },
    {
      "cell_type": "code",
      "source": [
        "from sklearn.preprocessing import OrdinalEncoder\n",
        "\n",
        "cut =  ['Fair', 'Good', 'Very Good', 'Premium', 'Ideal']\n",
        "color = ['D', 'E', 'F', 'G', 'H', 'I', 'J']\n",
        "clarity = ['I1', 'SI2', 'SI1', 'VS2', 'VS1', 'VVS2', 'VVS1', 'IF']\n",
        "\n",
        "oe = OrdinalEncoder(categories = [cut, color, clarity])\n",
        "oe.fit_transform(df[['cut', 'color', 'clarity']])"
      ],
      "metadata": {
        "colab": {
          "base_uri": "https://localhost:8080/"
        },
        "id": "YzNS0HzEnv91",
        "outputId": "61f3bc82-be65-4fdb-a110-61658006d263"
      },
      "execution_count": null,
      "outputs": [
        {
          "output_type": "execute_result",
          "data": {
            "text/plain": [
              "array([[4., 1., 1.],\n",
              "       [3., 1., 2.],\n",
              "       [1., 1., 4.],\n",
              "       ...,\n",
              "       [2., 0., 2.],\n",
              "       [3., 4., 1.],\n",
              "       [4., 0., 1.]])"
            ]
          },
          "metadata": {},
          "execution_count": 9
        }
      ]
    },
    {
      "cell_type": "code",
      "source": [
        "from sklearn.compose import ColumnTransformer\n",
        "from sklearn.preprocessing import StandardScaler\n",
        "\n",
        "df['xyz'] = df['x']*df['y']*df['z']\n",
        "\n",
        "real_num = ['carat','depth','table', 'x','y','z', 'xyz']\n",
        "cl = ColumnTransformer([\n",
        "                        ('1', OrdinalEncoder(categories = [cut, color, clarity]), ['cut', 'color', 'clarity']),\n",
        "                        ('2', StandardScaler(),real_num)\n",
        "])\n",
        "\n"
      ],
      "metadata": {
        "id": "gIR-vkMHnNWO"
      },
      "execution_count": null,
      "outputs": []
    },
    {
      "cell_type": "code",
      "source": [
        "Y = df['price']\n",
        "X = df.drop('price', axis=1)\n",
        "\n",
        "X = cl.fit_transform(X)\n",
        "X = StandardScaler().fit_transform(X)"
      ],
      "metadata": {
        "id": "KxNuja7LpyU7"
      },
      "execution_count": null,
      "outputs": []
    },
    {
      "cell_type": "code",
      "source": [
        "X.shape"
      ],
      "metadata": {
        "id": "4DybCoG9kijg",
        "outputId": "9ba34c78-2c71-4be4-f3ea-9b0400c0a5d7",
        "colab": {
          "base_uri": "https://localhost:8080/"
        }
      },
      "execution_count": null,
      "outputs": [
        {
          "output_type": "execute_result",
          "data": {
            "text/plain": [
              "(53940, 10)"
            ]
          },
          "metadata": {},
          "execution_count": 29
        }
      ]
    },
    {
      "cell_type": "code",
      "source": [
        "from sklearn.model_selection import train_test_split\n",
        "\n",
        "xtrain, xtest, ytrain, ytest = train_test_split(X, Y, random_state = SEED)"
      ],
      "metadata": {
        "id": "uLVGkYvWqLtR"
      },
      "execution_count": null,
      "outputs": []
    },
    {
      "cell_type": "code",
      "source": [
        "from sklearn.linear_model import LinearRegression\n",
        "from sklearn.metrics import mean_squared_error\n",
        "\n",
        "lin = LinearRegression()\n",
        "lin.fit(xtrain, ytrain)\n",
        "\n",
        "mean_squared_error(ytest, lin.predict(xtest))"
      ],
      "metadata": {
        "colab": {
          "base_uri": "https://localhost:8080/"
        },
        "id": "PfIerOxzqgEw",
        "outputId": "839346b2-f682-4ffd-8317-f6833df7e00f"
      },
      "execution_count": null,
      "outputs": [
        {
          "output_type": "execute_result",
          "data": {
            "text/plain": [
              "1498228.1729978432"
            ]
          },
          "metadata": {},
          "execution_count": 31
        }
      ]
    },
    {
      "cell_type": "markdown",
      "source": [
        "# Keras"
      ],
      "metadata": {
        "id": "-2Khue1sq47v"
      }
    },
    {
      "cell_type": "code",
      "source": [
        "(X.shape[1],)"
      ],
      "metadata": {
        "colab": {
          "base_uri": "https://localhost:8080/"
        },
        "id": "SviZAZELrLQT",
        "outputId": "8e419068-b606-44fd-99b7-ded8dda8a0cf"
      },
      "execution_count": null,
      "outputs": [
        {
          "output_type": "execute_result",
          "data": {
            "text/plain": [
              "(10,)"
            ]
          },
          "metadata": {},
          "execution_count": 16
        }
      ]
    },
    {
      "cell_type": "code",
      "source": [
        "import tensorflow as tf"
      ],
      "metadata": {
        "id": "C55_zzG0q1LE"
      },
      "execution_count": null,
      "outputs": []
    },
    {
      "cell_type": "markdown",
      "source": [
        "Weight Init https://www.tensorflow.org/api_docs/python/tf/keras/initializers"
      ],
      "metadata": {
        "id": "9gv5tdXklK0z"
      }
    },
    {
      "cell_type": "code",
      "source": [
        "model = tf.keras.Sequential([\n",
        "          tf.keras.Input(shape=(X.shape[1],), name='input'),\n",
        "          tf.keras.layers.Dense(20, activation='leaky_relu', kernel_initializer='he_uniform', name='dense_1'),\n",
        "          tf.keras.layers.Dense(10, activation='leaky_relu', kernel_initializer='he_uniform', name='dense_2'),\n",
        "          tf.keras.layers.Dense(1, activation='linear', name='output'),\n",
        "])\n",
        "model.summary()"
      ],
      "metadata": {
        "colab": {
          "base_uri": "https://localhost:8080/"
        },
        "id": "OPD93aYyq8hj",
        "outputId": "6df73215-4297-4d2d-f12f-3c4701e9d53c"
      },
      "execution_count": null,
      "outputs": [
        {
          "output_type": "stream",
          "name": "stdout",
          "text": [
            "Model: \"sequential_1\"\n",
            "_________________________________________________________________\n",
            " Layer (type)                Output Shape              Param #   \n",
            "=================================================================\n",
            " dense_1 (Dense)             (None, 20)                220       \n",
            "                                                                 \n",
            " dense_2 (Dense)             (None, 10)                210       \n",
            "                                                                 \n",
            " output (Dense)              (None, 1)                 11        \n",
            "                                                                 \n",
            "=================================================================\n",
            "Total params: 441\n",
            "Trainable params: 441\n",
            "Non-trainable params: 0\n",
            "_________________________________________________________________\n"
          ]
        }
      ]
    },
    {
      "cell_type": "markdown",
      "source": [
        "# Layers\n",
        "\n",
        "\n",
        "\n",
        "*   `get_layer()`\n",
        "*   `get_weights`\n",
        "*   `set_weights`\n",
        "\n"
      ],
      "metadata": {
        "id": "NrZvXwPZu78I"
      }
    },
    {
      "cell_type": "code",
      "source": [
        "# model.layers[1].name\n",
        "model.get_layer('dense_2').name"
      ],
      "metadata": {
        "colab": {
          "base_uri": "https://localhost:8080/",
          "height": 35
        },
        "id": "G81upI49sdur",
        "outputId": "cfc15da8-f36a-4f0c-9ec4-750257fa4dd8"
      },
      "execution_count": null,
      "outputs": [
        {
          "output_type": "execute_result",
          "data": {
            "text/plain": [
              "'dense_2'"
            ],
            "application/vnd.google.colaboratory.intrinsic+json": {
              "type": "string"
            }
          },
          "metadata": {},
          "execution_count": 19
        }
      ]
    },
    {
      "cell_type": "code",
      "source": [
        "model.get_layer('dense_2').trainable = False\n",
        "\n",
        "model.summary()"
      ],
      "metadata": {
        "colab": {
          "base_uri": "https://localhost:8080/"
        },
        "id": "ym6z-0r2uh_Q",
        "outputId": "2da97e6d-6008-4407-89c3-b5c7ae825596"
      },
      "execution_count": null,
      "outputs": [
        {
          "output_type": "stream",
          "name": "stdout",
          "text": [
            "Model: \"sequential\"\n",
            "_________________________________________________________________\n",
            " Layer (type)                Output Shape              Param #   \n",
            "=================================================================\n",
            " dense_1 (Dense)             (None, 20)                220       \n",
            "                                                                 \n",
            " dense_2 (Dense)             (None, 10)                210       \n",
            "                                                                 \n",
            " output (Dense)              (None, 1)                 11        \n",
            "                                                                 \n",
            "=================================================================\n",
            "Total params: 441\n",
            "Trainable params: 231\n",
            "Non-trainable params: 210\n",
            "_________________________________________________________________\n"
          ]
        }
      ]
    },
    {
      "cell_type": "code",
      "source": [
        "model.trainable = True\n",
        "model.summary()"
      ],
      "metadata": {
        "colab": {
          "base_uri": "https://localhost:8080/"
        },
        "id": "JTjwvss-umXM",
        "outputId": "d359f3fb-bf7b-4a3e-d6dd-2e530f773376"
      },
      "execution_count": null,
      "outputs": [
        {
          "output_type": "stream",
          "name": "stdout",
          "text": [
            "Model: \"sequential\"\n",
            "_________________________________________________________________\n",
            " Layer (type)                Output Shape              Param #   \n",
            "=================================================================\n",
            " dense_1 (Dense)             (None, 20)                220       \n",
            "                                                                 \n",
            " dense_2 (Dense)             (None, 10)                210       \n",
            "                                                                 \n",
            " output (Dense)              (None, 1)                 11        \n",
            "                                                                 \n",
            "=================================================================\n",
            "Total params: 441\n",
            "Trainable params: 441\n",
            "Non-trainable params: 0\n",
            "_________________________________________________________________\n"
          ]
        }
      ]
    },
    {
      "cell_type": "code",
      "source": [
        "weights, biases = model.get_layer('dense_2').get_weights()\n",
        "weights.shape, biases.shape"
      ],
      "metadata": {
        "colab": {
          "base_uri": "https://localhost:8080/"
        },
        "id": "911lkX7evCUf",
        "outputId": "679dbae6-c373-4704-a5da-3632aa4f5872"
      },
      "execution_count": null,
      "outputs": [
        {
          "output_type": "execute_result",
          "data": {
            "text/plain": [
              "((20, 10), (10,))"
            ]
          },
          "metadata": {},
          "execution_count": 23
        }
      ]
    },
    {
      "cell_type": "code",
      "source": [
        "model.get_layer('dense_2').set_weights((weights, biases))"
      ],
      "metadata": {
        "id": "Jj88lZqmve7e"
      },
      "execution_count": null,
      "outputs": []
    },
    {
      "cell_type": "markdown",
      "source": [
        "# Training"
      ],
      "metadata": {
        "id": "BdQxG6kpwMbX"
      }
    },
    {
      "cell_type": "code",
      "source": [
        "optimizer = tf.keras.optimizers.Adam(\n",
        "    learning_rate=0.01,\n",
        "    beta_1=0.9,\n",
        "    beta_2=0.999,\n",
        "    epsilon=1e-07,\n",
        "    amsgrad=False,\n",
        "    name=\"Adam\",\n",
        ")\n",
        "\n",
        "model.compile(\n",
        "    optimizer = optimizer,\n",
        "    loss = 'mse',\n",
        "    metrics = ['mae']\n",
        ")"
      ],
      "metadata": {
        "id": "1vGyBjajwD_L"
      },
      "execution_count": null,
      "outputs": []
    },
    {
      "cell_type": "code",
      "source": [
        "history = model.fit(xtrain, ytrain, epochs=20, batch_size=32, validation_data=(xtest, ytest))"
      ],
      "metadata": {
        "colab": {
          "base_uri": "https://localhost:8080/"
        },
        "id": "loHCOYGCxSZi",
        "outputId": "10b44359-8e5b-44ae-d20c-b54c1430750f"
      },
      "execution_count": null,
      "outputs": [
        {
          "output_type": "stream",
          "name": "stdout",
          "text": [
            "Epoch 1/20\n",
            "1265/1265 [==============================] - 3s 2ms/step - loss: 4126269.2500 - mae: 1155.9417 - val_loss: 1013396.1875 - val_mae: 628.8307\n",
            "Epoch 2/20\n",
            "1265/1265 [==============================] - 3s 2ms/step - loss: 1071703.1250 - mae: 560.4971 - val_loss: 798690.7500 - val_mae: 525.2033\n",
            "Epoch 3/20\n",
            "1265/1265 [==============================] - 3s 2ms/step - loss: 872668.1250 - mae: 505.2391 - val_loss: 727379.6875 - val_mae: 484.0403\n",
            "Epoch 4/20\n",
            "1265/1265 [==============================] - 3s 2ms/step - loss: 731504.0000 - mae: 464.1201 - val_loss: 664893.0625 - val_mae: 453.8429\n",
            "Epoch 5/20\n",
            "1265/1265 [==============================] - 3s 2ms/step - loss: 653399.3125 - mae: 441.1927 - val_loss: 612473.5625 - val_mae: 426.9374\n",
            "Epoch 6/20\n",
            "1265/1265 [==============================] - 3s 2ms/step - loss: 613934.8125 - mae: 422.3171 - val_loss: 599795.4375 - val_mae: 415.0961\n",
            "Epoch 7/20\n",
            "1265/1265 [==============================] - 3s 2ms/step - loss: 594179.2500 - mae: 415.1149 - val_loss: 588223.5625 - val_mae: 424.5157\n",
            "Epoch 8/20\n",
            "1265/1265 [==============================] - 3s 2ms/step - loss: 581641.4375 - mae: 411.0179 - val_loss: 560804.5000 - val_mae: 420.3340\n",
            "Epoch 9/20\n",
            "1265/1265 [==============================] - 3s 2ms/step - loss: 567633.8125 - mae: 405.9885 - val_loss: 580659.1875 - val_mae: 405.4107\n",
            "Epoch 10/20\n",
            "1265/1265 [==============================] - 3s 2ms/step - loss: 549532.5000 - mae: 402.3339 - val_loss: 524761.0625 - val_mae: 398.7661\n",
            "Epoch 11/20\n",
            "1265/1265 [==============================] - 3s 2ms/step - loss: 544760.6250 - mae: 398.9495 - val_loss: 512673.5625 - val_mae: 392.6149\n",
            "Epoch 12/20\n",
            "1265/1265 [==============================] - 3s 2ms/step - loss: 513657.9375 - mae: 390.3521 - val_loss: 497101.1562 - val_mae: 381.3392\n",
            "Epoch 13/20\n",
            "1265/1265 [==============================] - 3s 2ms/step - loss: 503235.5312 - mae: 383.9448 - val_loss: 485992.5312 - val_mae: 378.1144\n",
            "Epoch 14/20\n",
            "1265/1265 [==============================] - 3s 2ms/step - loss: 487951.0938 - mae: 379.6519 - val_loss: 463189.7500 - val_mae: 371.7734\n",
            "Epoch 15/20\n",
            "1265/1265 [==============================] - 3s 2ms/step - loss: 485077.0625 - mae: 377.6407 - val_loss: 475196.0625 - val_mae: 383.2153\n",
            "Epoch 16/20\n",
            "1265/1265 [==============================] - 3s 2ms/step - loss: 474165.5312 - mae: 374.8802 - val_loss: 480229.4375 - val_mae: 398.1135\n",
            "Epoch 17/20\n",
            "1265/1265 [==============================] - 3s 2ms/step - loss: 470443.9062 - mae: 374.5289 - val_loss: 452923.6250 - val_mae: 365.0916\n",
            "Epoch 18/20\n",
            "1265/1265 [==============================] - 3s 2ms/step - loss: 458504.0312 - mae: 372.3924 - val_loss: 442998.0312 - val_mae: 365.8562\n",
            "Epoch 19/20\n",
            "1265/1265 [==============================] - 3s 2ms/step - loss: 456432.1562 - mae: 372.0327 - val_loss: 515682.5625 - val_mae: 403.4404\n",
            "Epoch 20/20\n",
            "1265/1265 [==============================] - 3s 2ms/step - loss: 450242.7812 - mae: 369.8306 - val_loss: 440685.7188 - val_mae: 359.1219\n"
          ]
        }
      ]
    },
    {
      "cell_type": "code",
      "source": [
        "pd.DataFrame(history.history).plot()\n",
        "# history.history"
      ],
      "metadata": {
        "colab": {
          "base_uri": "https://localhost:8080/",
          "height": 293
        },
        "id": "Fq5no1R4yRW4",
        "outputId": "a1a2f667-d4dd-4382-d6a2-ef9d17b30f7e"
      },
      "execution_count": null,
      "outputs": [
        {
          "output_type": "execute_result",
          "data": {
            "text/plain": [
              "<matplotlib.axes._subplots.AxesSubplot at 0x7fee944d8690>"
            ]
          },
          "metadata": {},
          "execution_count": 36
        },
        {
          "output_type": "display_data",
          "data": {
            "text/plain": [
              "<Figure size 432x288 with 1 Axes>"
            ],
            "image/png": "[encoded data removed]"
          },
          "metadata": {
            "needs_background": "light"
          }
        }
      ]
    },
    {
      "cell_type": "code",
      "source": [
        "print('Linear', mean_squared_error(ytest, lin.predict(xtest)))\n",
        "\n",
        "print('Model', mean_squared_error(ytest, model.predict(xtest)))"
      ],
      "metadata": {
        "id": "mIxYl3aTpR7-",
        "outputId": "45850f37-e119-43da-ba2b-0bb9aedf9f7e",
        "colab": {
          "base_uri": "https://localhost:8080/"
        }
      },
      "execution_count": null,
      "outputs": [
        {
          "output_type": "stream",
          "name": "stdout",
          "text": [
            "Linear 1498228.1729978432\n",
            "Model 440685.65217331244\n"
          ]
        }
      ]
    },
    {
      "cell_type": "markdown",
      "source": [
        "# Further Topics are Advanced one\n"
      ],
      "metadata": {
        "id": "cqumlE863ovu"
      }
    },
    {
      "cell_type": "markdown",
      "source": [
        "# CallBack\n",
        "\n",
        "https://keras.io/api/callbacks/"
      ],
      "metadata": {
        "id": "2CCZIqvc0KyK"
      }
    },
    {
      "cell_type": "code",
      "source": [
        "def ee():\n",
        "    print('ee')\n",
        "\n",
        "lambda_callback = tf.keras.callbacks.LambdaCallback(\n",
        "    on_epoch_begin=None,\n",
        "    on_epoch_end=ee,\n",
        "    on_batch_begin=None,\n",
        "    on_batch_end=None,\n",
        "    on_train_begin=None,\n",
        "    on_train_end=None,\n",
        ")\n",
        "\n",
        "class CustomCallback(tf.keras.callbacks.Callback):\n",
        "    # def on_epoch_begin():\n",
        "    #     pass\n",
        "    def on_epoch_end(self, epoch, logs):\n",
        "        print(logs)\n",
        "        \n",
        "    # def on_batch_begin(**kwarg):\n",
        "    #     pass\n",
        "    # def on_batch_end(**kwarg):\n",
        "    #     pass\n",
        "    # def on_train_begin(**kwarg):\n",
        "    #     pass\n",
        "    # def on_train_end(**kwarg):\n",
        "    #     pass"
      ],
      "metadata": {
        "id": "cIpxqhXLzCd7"
      },
      "execution_count": null,
      "outputs": []
    },
    {
      "cell_type": "code",
      "source": [
        "history = model.fit(xtrain, ytrain, epochs=20, batch_size=32, validation_data=(xtest, ytest), callbacks=[CustomCallback()])"
      ],
      "metadata": {
        "id": "y7f9qNPt1N_u"
      },
      "execution_count": null,
      "outputs": []
    },
    {
      "cell_type": "code",
      "source": [
        "model = tf.keras.Sequential([\n",
        "        tf.keras.Input(shape=(X.shape[1],), name='input'),\n",
        "        tf.keras.layers.Dense(20, activation='leaky_relu', kernel_initializer='he_uniform', name='dense_1'),\n",
        "        tf.keras.layers.Dense(10, activation='leaky_relu', kernel_initializer='he_uniform', name='dense_2'),\n",
        "        tf.keras.layers.Dense(1, activation='linear', name='output'),\n",
        "])\n",
        "model.compile(\n",
        "    optimizer = 'adam',\n",
        "    loss = 'mse',\n",
        "    metrics = ['mae']\n",
        ")"
      ],
      "metadata": {
        "id": "5SfJGU6l29cM"
      },
      "execution_count": null,
      "outputs": []
    },
    {
      "cell_type": "code",
      "source": [
        "early_stoping = tf.keras.callbacks.EarlyStopping(\n",
        "    monitor=\"val_loss\",\n",
        "    min_delta=100000,\n",
        "    patience=5,\n",
        "    restore_best_weights=False,\n",
        ")\n",
        "model_checkpoint = tf.keras.callbacks.ModelCheckpoint(\n",
        "    './models/',\n",
        "    monitor=\"val_loss\",\n",
        "    save_best_only=True,\n",
        "    save_weights_only=True,# weights, optimizer\n",
        ")\n",
        "\n",
        "history = model.fit(xtrain, ytrain, epochs=1000, batch_size=32, validation_data=(xtest, ytest), callbacks=[early_stoping, model_checkpoint])"
      ],
      "metadata": {
        "colab": {
          "base_uri": "https://localhost:8080/"
        },
        "id": "iq87YMVZ13xS",
        "outputId": "4999c881-1726-4115-b529-793ce98d02ab"
      },
      "execution_count": null,
      "outputs": [
        {
          "output_type": "stream",
          "name": "stdout",
          "text": [
            "Epoch 1/1000\n",
            "1265/1265 [==============================] - 3s 2ms/step - loss: 446543.5312 - mae: 369.1822 - val_loss: 426672.5625 - val_mae: 364.1584\n",
            "Epoch 2/1000\n",
            "1265/1265 [==============================] - 3s 2ms/step - loss: 438971.3750 - mae: 366.2079 - val_loss: 423471.9688 - val_mae: 360.3270\n",
            "Epoch 3/1000\n",
            "1265/1265 [==============================] - 3s 2ms/step - loss: 440695.2188 - mae: 368.9779 - val_loss: 427952.0000 - val_mae: 371.2900\n",
            "Epoch 4/1000\n",
            "1265/1265 [==============================] - 3s 2ms/step - loss: 429475.6875 - mae: 364.6230 - val_loss: 415963.5312 - val_mae: 362.4906\n",
            "Epoch 5/1000\n",
            "1265/1265 [==============================] - 3s 2ms/step - loss: 429838.2188 - mae: 364.4676 - val_loss: 412596.1250 - val_mae: 356.9526\n",
            "Epoch 6/1000\n",
            "1265/1265 [==============================] - 4s 3ms/step - loss: 425586.5938 - mae: 362.7749 - val_loss: 415960.8125 - val_mae: 362.5457\n"
          ]
        }
      ]
    },
    {
      "cell_type": "markdown",
      "source": [
        "# Functional API\n",
        "\n",
        "https://www.tensorflow.org/api_docs/python/tf/keras/layers?version=nightly"
      ],
      "metadata": {
        "id": "AwbeS4g_8vKn"
      }
    },
    {
      "cell_type": "code",
      "source": [
        "# model = tf.keras.Sequential([\n",
        "#         tf.keras.Input(shape=(X.shape[1],), name='input'),\n",
        "#         tf.keras.layers.Dense(20, activation='leaky_relu', kernel_initializer='he_uniform', name='dense_1'),\n",
        "#         tf.keras.layers.Dense(10, activation='leaky_relu', kernel_initializer='he_uniform', name='dense_2'),\n",
        "#         tf.keras.layers.Dense(20, activation='leaky_relu', kernel_initializer='he_uniform', name='dense_3'),\n",
        "#         tf.keras.layers.Dense(1, activation='linear', name='output'),\n",
        "# ])\n",
        "\n",
        "model_input = tf.keras.Input(shape=(X.shape[1],), name='input')\n",
        "dense_1 = tf.keras.layers.Dense(20, activation='leaky_relu', kernel_initializer='he_uniform', name='dense_1')(model_input)\n",
        "dense_2 = tf.keras.layers.Dense(20, activation='leaky_relu', kernel_initializer='he_uniform', name='dense_2')(dense_1)\n",
        "dense_3 = tf.keras.layers.Dense(10, activation='leaky_relu', kernel_initializer='he_uniform', name='dense_3')(tf.keras.layers.add([dense_1, dense_2]))\n",
        "model_output = tf.keras.layers.Dense(1, activation='linear', name='output')(dense_3)\n",
        "\n",
        "model = tf.keras.Model(inputs=[model_input], outputs=[model_output])\n",
        "\n",
        "model.compile(\n",
        "    optimizer = 'adam',\n",
        "    loss = 'mse',\n",
        "    metrics = ['mae']\n",
        ")\n",
        "\n",
        "model.summary()"
      ],
      "metadata": {
        "colab": {
          "base_uri": "https://localhost:8080/"
        },
        "id": "58MZJ7UvAVwm",
        "outputId": "aa14352f-78a6-441f-fddb-1910f23c764f"
      },
      "execution_count": null,
      "outputs": [
        {
          "output_type": "stream",
          "name": "stdout",
          "text": [
            "Model: \"model_4\"\n",
            "__________________________________________________________________________________________________\n",
            " Layer (type)                   Output Shape         Param #     Connected to                     \n",
            "==================================================================================================\n",
            " input (InputLayer)             [(None, 9)]          0           []                               \n",
            "                                                                                                  \n",
            " dense_1 (Dense)                (None, 20)           200         ['input[0][0]']                  \n",
            "                                                                                                  \n",
            " dense_2 (Dense)                (None, 20)           420         ['dense_1[0][0]']                \n",
            "                                                                                                  \n",
            " add_2 (Add)                    (None, 20)           0           ['dense_1[0][0]',                \n",
            "                                                                  'dense_2[0][0]']                \n",
            "                                                                                                  \n",
            " dense_3 (Dense)                (None, 10)           210         ['add_2[0][0]']                  \n",
            "                                                                                                  \n",
            " output (Dense)                 (None, 1)            11          ['dense_3[0][0]']                \n",
            "                                                                                                  \n",
            "==================================================================================================\n",
            "Total params: 841\n",
            "Trainable params: 841\n",
            "Non-trainable params: 0\n",
            "__________________________________________________________________________________________________\n"
          ]
        }
      ]
    },
    {
      "cell_type": "code",
      "source": [
        "model_input = tf.keras.Input(shape=(X.shape[1],), name='input')\n",
        "dense_1 = tf.keras.layers.Dense(20, activation='leaky_relu', kernel_initializer='he_uniform', name='dense_1')(model_input)\n",
        "dense_2 = tf.keras.layers.Dense(10, activation='leaky_relu', kernel_initializer='he_uniform', name='dense_2')(dense_1)\n",
        "concat = tf.keras.layers.Concatenate()([dense_1, dense_2])\n",
        "dense_3 = tf.keras.layers.Dense(5, activation='leaky_relu', kernel_initializer='he_uniform', name='dense_3')(concat)\n",
        "model_output = tf.keras.layers.Dense(1, activation='linear', name='output')(dense_3)\n",
        "\n",
        "model = tf.keras.Model(inputs=[model_input], outputs=[model_output])\n",
        "\n",
        "model.compile(\n",
        "    optimizer = 'adam',\n",
        "    loss = 'mse',\n",
        "    metrics = ['mae']\n",
        ")\n",
        "\n",
        "model.summary()"
      ],
      "metadata": {
        "colab": {
          "base_uri": "https://localhost:8080/"
        },
        "id": "67EhDHxTAq2i",
        "outputId": "09014fd7-d6c2-4396-9680-b6a648035863"
      },
      "execution_count": null,
      "outputs": [
        {
          "output_type": "stream",
          "name": "stdout",
          "text": [
            "Model: \"model_5\"\n",
            "__________________________________________________________________________________________________\n",
            " Layer (type)                   Output Shape         Param #     Connected to                     \n",
            "==================================================================================================\n",
            " input (InputLayer)             [(None, 9)]          0           []                               \n",
            "                                                                                                  \n",
            " dense_1 (Dense)                (None, 20)           200         ['input[0][0]']                  \n",
            "                                                                                                  \n",
            " dense_2 (Dense)                (None, 10)           210         ['dense_1[0][0]']                \n",
            "                                                                                                  \n",
            " concatenate_1 (Concatenate)    (None, 30)           0           ['dense_1[0][0]',                \n",
            "                                                                  'dense_2[0][0]']                \n",
            "                                                                                                  \n",
            " dense_3 (Dense)                (None, 5)            155         ['concatenate_1[0][0]']          \n",
            "                                                                                                  \n",
            " output (Dense)                 (None, 1)            6           ['dense_3[0][0]']                \n",
            "                                                                                                  \n",
            "==================================================================================================\n",
            "Total params: 571\n",
            "Trainable params: 571\n",
            "Non-trainable params: 0\n",
            "__________________________________________________________________________________________________\n"
          ]
        }
      ]
    },
    {
      "cell_type": "code",
      "source": [
        "tf.keras.utils.plot_model(model)"
      ],
      "metadata": {
        "colab": {
          "base_uri": "https://localhost:8080/",
          "height": 564
        },
        "id": "HyzklfdVBV1T",
        "outputId": "4b5d815c-52b0-4bf0-af89-4d1222049736"
      },
      "execution_count": null,
      "outputs": [
        {
          "output_type": "execute_result",
          "data": {
            "text/plain": [
              "<IPython.core.display.Image object>"
            ],
            "image/png": "[encoded data removed]"
          },
          "metadata": {},
          "execution_count": 88
        }
      ]
    },
    {
      "cell_type": "code",
      "source": [
        "model_input = tf.keras.Input(shape=(X.shape[1],), name='input')\n",
        "\n",
        "dense_1 = tf.keras.layers.Dense(20, activation='leaky_relu', kernel_initializer='he_uniform', name='dense_1')(model_input)\n",
        "dense_2 = tf.keras.layers.Dense(10, activation='leaky_relu', kernel_initializer='he_uniform', name='dense_2')(dense_1)\n",
        "concat = tf.keras.layers.Concatenate()([dense_1, dense_2])\n",
        "model_output = tf.keras.layers.Dense(1, activation='linear', name='output')(concat)\n",
        "\n",
        "model = tf.keras.Model(inputs=[model_input], outputs=[model_output, concat])\n",
        "\n",
        "model.compile(\n",
        "    optimizer = 'adam',\n",
        "    loss = ['mse'],\n",
        "    metrics = ['mae']\n",
        ")\n",
        "\n",
        "tf.keras.utils.plot_model(model)"
      ],
      "metadata": {
        "colab": {
          "base_uri": "https://localhost:8080/",
          "height": 466
        },
        "id": "canejM8SB2JN",
        "outputId": "e5fcdafb-aa65-4d5b-cb5b-3360a0df2a76"
      },
      "execution_count": null,
      "outputs": [
        {
          "output_type": "execute_result",
          "data": {
            "text/plain": [
              "<IPython.core.display.Image object>"
            ],
            "image/png": "[encoded data removed]"
          },
          "metadata": {},
          "execution_count": 96
        }
      ]
    },
    {
      "cell_type": "code",
      "source": [
        "history = model.fit(xtrain, ytrain, epochs=5, batch_size=32, validation_data=(xtest, ytest))"
      ],
      "metadata": {
        "colab": {
          "base_uri": "https://localhost:8080/"
        },
        "id": "urRTNJBmB7Lm",
        "outputId": "2d217457-dac0-4d38-c774-5936aeaaa98d"
      },
      "execution_count": null,
      "outputs": [
        {
          "output_type": "stream",
          "name": "stdout",
          "text": [
            "Epoch 1/5\n",
            "1265/1265 [==============================] - 4s 2ms/step - loss: 19443602.0000 - output_loss: 19443602.0000 - output_mae: 2841.3425 - concatenate_7_mae: 3896.1292 - val_loss: 6633373.5000 - val_output_loss: 6633373.5000 - val_output_mae: 1785.1199 - val_concatenate_7_mae: 3919.7078\n",
            "Epoch 2/5\n",
            "1265/1265 [==============================] - 3s 2ms/step - loss: 4023764.2500 - output_loss: 4023764.2500 - output_mae: 1377.2480 - concatenate_7_mae: 3876.2539 - val_loss: 3077297.0000 - val_output_loss: 3077297.0000 - val_output_mae: 1138.7142 - val_concatenate_7_mae: 3927.1462\n",
            "Epoch 3/5\n",
            "1265/1265 [==============================] - 3s 2ms/step - loss: 2166064.7500 - output_loss: 2166064.7500 - output_mae: 1005.4685 - concatenate_7_mae: 3881.5818 - val_loss: 2239321.5000 - val_output_loss: 2239321.5000 - val_output_mae: 929.3035 - val_concatenate_7_mae: 3929.8960\n",
            "Epoch 4/5\n",
            "1265/1265 [==============================] - 3s 2ms/step - loss: 1497824.6250 - output_loss: 1497824.6250 - output_mae: 830.7947 - concatenate_7_mae: 3884.1799 - val_loss: 1851428.2500 - val_output_loss: 1851428.2500 - val_output_mae: 786.3316 - val_concatenate_7_mae: 3932.3213\n",
            "Epoch 5/5\n",
            "1265/1265 [==============================] - 3s 2ms/step - loss: 1209720.5000 - output_loss: 1209720.5000 - output_mae: 739.7021 - concatenate_7_mae: 3886.1221 - val_loss: 1731644.6250 - val_output_loss: 1731644.6250 - val_output_mae: 726.5963 - val_concatenate_7_mae: 3934.2502\n"
          ]
        }
      ]
    },
    {
      "cell_type": "markdown",
      "source": [
        "# BatchNorm"
      ],
      "metadata": {
        "id": "3a6NMzcmDvio"
      }
    },
    {
      "cell_type": "code",
      "source": [
        "model = tf.keras.Sequential([\n",
        "        tf.keras.Input(shape=(X.shape[1],), name='input'),\n",
        "        \n",
        "        tf.keras.layers.Dense(20, kernel_initializer='he_uniform', name='dense_1', kernel_regularizer=tf.keras.regularizers.L1(l1=0.02)),\n",
        "        tf.keras.layers.BatchNormalization(name='batchnorm1'),\n",
        "        tf.keras.layers.ReLU(),\n",
        "\n",
        "        tf.keras.layers.Dropout(rate=0.2), # previous layer is affected\n",
        "        \n",
        "        tf.keras.layers.Dense(10, kernel_initializer='he_uniform', name='dense_2', kernel_regularizer='l2'),\n",
        "        tf.keras.layers.BatchNormalization(name='batchnorm2'),\n",
        "        tf.keras.layers.ReLU(),\n",
        "\n",
        "        tf.keras.layers.Dropout(rate=0.2), # previous layer is affected\n",
        "\n",
        "        tf.keras.layers.Dense(1, activation='linear', name='output'),\n",
        "])\n",
        "\n",
        "model.compile(\n",
        "    optimizer = 'adam',\n",
        "    loss = 'mse',\n",
        "    metrics = ['mae']\n",
        ")\n",
        "\n",
        "model.summary()"
      ],
      "metadata": {
        "colab": {
          "base_uri": "https://localhost:8080/"
        },
        "id": "Ov0x16CSDokK",
        "outputId": "86d35b91-544c-48ab-e2f7-fb7a2b2d73c2"
      },
      "execution_count": null,
      "outputs": [
        {
          "output_type": "stream",
          "name": "stdout",
          "text": [
            "Model: \"sequential_20\"\n",
            "_________________________________________________________________\n",
            " Layer (type)                Output Shape              Param #   \n",
            "=================================================================\n",
            " dense_1 (Dense)             (None, 20)                200       \n",
            "                                                                 \n",
            " batchnorm1 (BatchNormalizat  (None, 20)               80        \n",
            " ion)                                                            \n",
            "                                                                 \n",
            " re_lu_6 (ReLU)              (None, 20)                0         \n",
            "                                                                 \n",
            " dropout_2 (Dropout)         (None, 20)                0         \n",
            "                                                                 \n",
            " dense_2 (Dense)             (None, 10)                210       \n",
            "                                                                 \n",
            " batchnorm2 (BatchNormalizat  (None, 10)               40        \n",
            " ion)                                                            \n",
            "                                                                 \n",
            " re_lu_7 (ReLU)              (None, 10)                0         \n",
            "                                                                 \n",
            " dropout_3 (Dropout)         (None, 10)                0         \n",
            "                                                                 \n",
            " output (Dense)              (None, 1)                 11        \n",
            "                                                                 \n",
            "=================================================================\n",
            "Total params: 541\n",
            "Trainable params: 481\n",
            "Non-trainable params: 60\n",
            "_________________________________________________________________\n"
          ]
        }
      ]
    },
    {
      "cell_type": "code",
      "source": [
        "history = model.fit(xtrain, ytrain, epochs=20, batch_size=32, validation_data=(xtest, ytest))"
      ],
      "metadata": {
        "colab": {
          "base_uri": "https://localhost:8080/"
        },
        "id": "IJh_4n3MEm6V",
        "outputId": "83b89eae-cc11-4ae8-f456-0739d7c444a9"
      },
      "execution_count": null,
      "outputs": [
        {
          "output_type": "stream",
          "name": "stdout",
          "text": [
            "Epoch 1/20\n",
            "1265/1265 [==============================] - 6s 3ms/step - loss: 31092216.0000 - mae: 3911.5173 - val_loss: 31323378.0000 - val_mae: 3943.1685\n",
            "Epoch 2/20\n",
            "1265/1265 [==============================] - 3s 3ms/step - loss: 30429744.0000 - mae: 3870.1997 - val_loss: 30414290.0000 - val_mae: 3887.7966\n",
            "Epoch 3/20\n",
            "1265/1265 [==============================] - 3s 3ms/step - loss: 29355664.0000 - mae: 3799.7788 - val_loss: 29083384.0000 - val_mae: 3803.1350\n",
            "Epoch 4/20\n",
            "1265/1265 [==============================] - 3s 2ms/step - loss: 27960278.0000 - mae: 3705.4343 - val_loss: 27489924.0000 - val_mae: 3698.7102\n",
            "Epoch 5/20\n",
            "1265/1265 [==============================] - 3s 3ms/step - loss: 26221450.0000 - mae: 3584.6946 - val_loss: 25511474.0000 - val_mae: 3564.4148\n",
            "Epoch 6/20\n",
            "1265/1265 [==============================] - 3s 3ms/step - loss: 24265120.0000 - mae: 3440.2009 - val_loss: 23339488.0000 - val_mae: 3406.4849\n",
            "Epoch 7/20\n",
            "1265/1265 [==============================] - 3s 2ms/step - loss: 22079126.0000 - mae: 3272.7253 - val_loss: 20944722.0000 - val_mae: 3231.8457\n",
            "Epoch 8/20\n",
            "1265/1265 [==============================] - 3s 3ms/step - loss: 19836192.0000 - mae: 3089.2517 - val_loss: 18642378.0000 - val_mae: 3050.1194\n",
            "Epoch 9/20\n",
            "1265/1265 [==============================] - 3s 3ms/step - loss: 17530376.0000 - mae: 2884.8950 - val_loss: 15899387.0000 - val_mae: 2798.4241\n",
            "Epoch 10/20\n",
            "1265/1265 [==============================] - 3s 3ms/step - loss: 15187069.0000 - mae: 2662.8132 - val_loss: 13397392.0000 - val_mae: 2567.2976\n",
            "Epoch 11/20\n",
            "1265/1265 [==============================] - 3s 2ms/step - loss: 12946217.0000 - mae: 2431.8345 - val_loss: 11183434.0000 - val_mae: 2295.0916\n",
            "Epoch 12/20\n",
            "1265/1265 [==============================] - 3s 2ms/step - loss: 10797393.0000 - mae: 2188.1177 - val_loss: 8532675.0000 - val_mae: 2020.5256\n",
            "Epoch 13/20\n",
            "1265/1265 [==============================] - 3s 3ms/step - loss: 8796306.0000 - mae: 1940.0984 - val_loss: 6984680.0000 - val_mae: 1741.3541\n",
            "Epoch 14/20\n",
            "1265/1265 [==============================] - 3s 3ms/step - loss: 7076949.0000 - mae: 1702.2233 - val_loss: 5245982.5000 - val_mae: 1509.8745\n",
            "Epoch 15/20\n",
            "1265/1265 [==============================] - 3s 3ms/step - loss: 5664502.0000 - mae: 1486.8158 - val_loss: 3993390.0000 - val_mae: 1247.0170\n",
            "Epoch 16/20\n",
            "1265/1265 [==============================] - 3s 3ms/step - loss: 4626841.0000 - mae: 1321.6732 - val_loss: 2923536.5000 - val_mae: 1047.4983\n",
            "Epoch 17/20\n",
            "1265/1265 [==============================] - 3s 3ms/step - loss: 3853236.5000 - mae: 1205.2939 - val_loss: 2587632.2500 - val_mae: 946.7275\n",
            "Epoch 18/20\n",
            "1265/1265 [==============================] - 3s 2ms/step - loss: 3323822.0000 - mae: 1123.4414 - val_loss: 2155173.2500 - val_mae: 723.6109\n",
            "Epoch 19/20\n",
            "1265/1265 [==============================] - 3s 3ms/step - loss: 3130168.2500 - mae: 1102.2725 - val_loss: 1725843.2500 - val_mae: 526.8715\n",
            "Epoch 20/20\n",
            "1265/1265 [==============================] - 3s 3ms/step - loss: 2921132.5000 - mae: 1066.2325 - val_loss: 2020326.3750 - val_mae: 563.4874\n"
          ]
        }
      ]
    },
    {
      "cell_type": "code",
      "source": [],
      "metadata": {
        "id": "25IAMgOPGrey"
      },
      "execution_count": null,
      "outputs": []
    }
  ]
}